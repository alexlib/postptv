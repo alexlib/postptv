{
 "metadata": {
  "name": "ptv_is_to_traj.ipynb"
 },
 "nbformat": 3,
 "nbformat_minor": 0,
 "worksheets": [
  {
   "cells": [
    {
     "cell_type": "code",
     "collapsed": false,
     "input": [
      "import os\n",
      "from glob import glob\n",
      "import numpy as np\n",
      "from matplotlib.mlab import csv2rec\n",
      "from mpl_toolkits.mplot3d.axes3d import Axes3D"
     ],
     "language": "python",
     "metadata": {},
     "outputs": [],
     "prompt_number": 1
    },
    {
     "cell_type": "code",
     "collapsed": false,
     "input": [
      "directory = './Hristo - Data/' #'/Users/alex/Documents/PTV/test/res/'"
     ],
     "language": "python",
     "metadata": {},
     "outputs": [],
     "prompt_number": 2
    },
    {
     "cell_type": "code",
     "collapsed": false,
     "input": [
      "list_ptv_is_files = glob(os.path.join(directory,'ptv_is.*'))\n",
      "# print list_ptv_is_files"
     ],
     "language": "python",
     "metadata": {},
     "outputs": [],
     "prompt_number": 3
    },
    {
     "cell_type": "code",
     "collapsed": false,
     "input": [
      "# reading the ptv_is.* files\n",
      "frames = []\n",
      "for counter, ptv_is_file in enumerate(list_ptv_is_files):\n",
      "    frame = csv2rec(ptv_is_file,skiprows=1,delimiter=' ',names=['p','n','x','y','z'])\n",
      "    frame = rec_append_fields(frame,['t','id'],[np.zeros_like(frame.x)+counter,np.zeros_like(frame.x)-999],dtypes=[np.int,np.int])\n",
      "    frames.append(frame)\n",
      "    "
     ],
     "language": "python",
     "metadata": {},
     "outputs": [],
     "prompt_number": 4
    },
    {
     "cell_type": "code",
     "collapsed": false,
     "input": [
      "# adding trajectory id = linking\n",
      "id = 0\n",
      "for i,f in enumerate(frames):\n",
      "    for j,l in enumerate(f):\n",
      "        if l.p == -1 and l.n != -2:\n",
      "            l.id = id\n",
      "            id += 1\n",
      "        elif l.p != -1:\n",
      "            l.id = frames[i-1].id[l.p]\n",
      "        \n"
     ],
     "language": "python",
     "metadata": {},
     "outputs": [],
     "prompt_number": 5
    },
    {
     "cell_type": "code",
     "collapsed": false,
     "input": [
      "for i,f in enumerate(frames):\n",
      "    ind = f.id == -999\n",
      "    frames[i] = f[~ind]"
     ],
     "language": "python",
     "metadata": {},
     "outputs": [],
     "prompt_number": 6
    },
    {
     "cell_type": "code",
     "collapsed": false,
     "input": [
      "last_traj = max(frames[-1].id)\n",
      "traj = [[] for k in range(last_traj+1)]\n",
      "for f in frames:\n",
      "    for p in f:\n",
      "        traj[p.id].append(p)"
     ],
     "language": "python",
     "metadata": {},
     "outputs": [],
     "prompt_number": 7
    },
    {
     "cell_type": "code",
     "collapsed": false,
     "input": [
      "fig = figure(figsize=(12,8))\n",
      "ax = fig.add_subplot(1,1,1, projection='3d')\n",
      "for t in traj:\n",
      "    x = [p.x for p in t]\n",
      "    y = [p.y for p in t]\n",
      "    z = [p.z for p in t]\n",
      "    ax.plot(x,y,z)"
     ],
     "language": "python",
     "metadata": {},
     "outputs": [],
     "prompt_number": 8
    },
    {
     "cell_type": "code",
     "collapsed": false,
     "input": [],
     "language": "python",
     "metadata": {},
     "outputs": []
    }
   ],
   "metadata": {}
  }
 ]
}